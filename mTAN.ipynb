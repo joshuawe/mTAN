{
 "cells": [
  {
   "cell_type": "markdown",
   "metadata": {},
   "source": [
    "# mTAN - Imputation Model\n",
    "\n",
    "Here we will test out the mTAN imputation model"
   ]
  },
  {
   "cell_type": "code",
   "execution_count": null,
   "metadata": {},
   "outputs": [],
   "source": []
  }
 ],
 "metadata": {
  "kernelspec": {
   "display_name": "Python 3.8.10 ('PyPOTS_env': venv)",
   "language": "python",
   "name": "python3"
  },
  "language_info": {
   "name": "python",
   "version": "3.8.10"
  },
  "orig_nbformat": 4,
  "vscode": {
   "interpreter": {
    "hash": "9c70c2f994a350ab1bc4c43a181023eb6ea79a59ab22a82e0e018a43c74d108f"
   }
  }
 },
 "nbformat": 4,
 "nbformat_minor": 2
}
